{
 "cells": [
  {
   "cell_type": "markdown",
   "metadata": {},
   "source": [
    "In this notebook I use pandas and sqlite to coalesce the various pieces of data into a single database."
   ]
  },
  {
   "cell_type": "code",
   "execution_count": 40,
   "metadata": {},
   "outputs": [],
   "source": [
    "import pathlib\n",
    "\n",
    "import sqlite3\n",
    "import pandas as pd\n",
    "import numpy as np"
   ]
  },
  {
   "cell_type": "code",
   "execution_count": 2,
   "metadata": {},
   "outputs": [],
   "source": [
    "conn = sqlite3.connect('./Data/Run_190610.db')"
   ]
  },
  {
   "cell_type": "code",
   "execution_count": 3,
   "metadata": {},
   "outputs": [],
   "source": [
    "raw_dir = pathlib.Path('/accounts/ekarakoy/PROJECTS/PRI/Data/Run01_20190610/Raw/')"
   ]
  },
  {
   "cell_type": "code",
   "execution_count": 4,
   "metadata": {},
   "outputs": [],
   "source": [
    "df_abs = pd.read_csv(raw_dir / 'A_total_species.csv')"
   ]
  },
  {
   "cell_type": "code",
   "execution_count": 5,
   "metadata": {},
   "outputs": [
    {
     "data": {
      "text/html": [
       "<div>\n",
       "<style scoped>\n",
       "    .dataframe tbody tr th:only-of-type {\n",
       "        vertical-align: middle;\n",
       "    }\n",
       "\n",
       "    .dataframe tbody tr th {\n",
       "        vertical-align: top;\n",
       "    }\n",
       "\n",
       "    .dataframe thead th {\n",
       "        text-align: right;\n",
       "    }\n",
       "</style>\n",
       "<table border=\"1\" class=\"dataframe\">\n",
       "  <thead>\n",
       "    <tr style=\"text-align: right;\">\n",
       "      <th></th>\n",
       "      <th>band</th>\n",
       "      <th>Ehux</th>\n",
       "      <th>Pela</th>\n",
       "      <th>Pro_</th>\n",
       "      <th>Syn_</th>\n",
       "      <th>Tetr</th>\n",
       "      <th>Thal</th>\n",
       "    </tr>\n",
       "  </thead>\n",
       "  <tbody>\n",
       "    <tr>\n",
       "      <th>0</th>\n",
       "      <td>a402</td>\n",
       "      <td>0.046076</td>\n",
       "      <td>0.067961</td>\n",
       "      <td>0.005656</td>\n",
       "      <td>0.029673</td>\n",
       "      <td>0.044615</td>\n",
       "      <td>0.095622</td>\n",
       "    </tr>\n",
       "    <tr>\n",
       "      <th>1</th>\n",
       "      <td>a404</td>\n",
       "      <td>0.045737</td>\n",
       "      <td>0.067158</td>\n",
       "      <td>0.005581</td>\n",
       "      <td>0.029349</td>\n",
       "      <td>0.044055</td>\n",
       "      <td>0.094832</td>\n",
       "    </tr>\n",
       "  </tbody>\n",
       "</table>\n",
       "</div>"
      ],
      "text/plain": [
       "   band      Ehux      Pela      Pro_      Syn_      Tetr      Thal\n",
       "0  a402  0.046076  0.067961  0.005656  0.029673  0.044615  0.095622\n",
       "1  a404  0.045737  0.067158  0.005581  0.029349  0.044055  0.094832"
      ]
     },
     "execution_count": 5,
     "metadata": {},
     "output_type": "execute_result"
    }
   ],
   "source": [
    "df_abs.head(2)"
   ]
  },
  {
   "cell_type": "code",
   "execution_count": 6,
   "metadata": {},
   "outputs": [],
   "source": [
    "# remove the 'a' in band\n",
    "df_abs.band = df_abs.apply(lambda x: x['band'][1:], axis=1)"
   ]
  },
  {
   "cell_type": "code",
   "execution_count": 26,
   "metadata": {},
   "outputs": [],
   "source": [
    "col_name_mapper = {'Ehux': 'Emiliania_huxleyi', 'Pela': 'Pelagomonas_calceolate',\n",
    "                   'Pro_': 'Prochlorococcus_marinus', 'Syn_': 'Synechococcus',\n",
    "                   'Pro': 'Prochlorococcus_marinus', 'Syn': 'Synechococcus',\n",
    "                   'Tetr': 'Tetraselmis', 'Thal': 'Thalassiosira_oceanica',\n",
    "                  }"
   ]
  },
  {
   "cell_type": "code",
   "execution_count": 8,
   "metadata": {},
   "outputs": [],
   "source": [
    "df_abs.rename(columns=col_name_mapper, inplace=True)"
   ]
  },
  {
   "cell_type": "code",
   "execution_count": 9,
   "metadata": {},
   "outputs": [
    {
     "data": {
      "text/html": [
       "<div>\n",
       "<style scoped>\n",
       "    .dataframe tbody tr th:only-of-type {\n",
       "        vertical-align: middle;\n",
       "    }\n",
       "\n",
       "    .dataframe tbody tr th {\n",
       "        vertical-align: top;\n",
       "    }\n",
       "\n",
       "    .dataframe thead th {\n",
       "        text-align: right;\n",
       "    }\n",
       "</style>\n",
       "<table border=\"1\" class=\"dataframe\">\n",
       "  <thead>\n",
       "    <tr style=\"text-align: right;\">\n",
       "      <th></th>\n",
       "      <th>band</th>\n",
       "      <th>Emiliania_huxleyi</th>\n",
       "      <th>Pelagomonas_calceolate</th>\n",
       "      <th>Prochlorococcus_marinus</th>\n",
       "      <th>Synechococcus</th>\n",
       "      <th>Tetraselmis</th>\n",
       "      <th>Thalassiosira_oceanica</th>\n",
       "    </tr>\n",
       "  </thead>\n",
       "  <tbody>\n",
       "    <tr>\n",
       "      <th>0</th>\n",
       "      <td>402</td>\n",
       "      <td>0.046076</td>\n",
       "      <td>0.067961</td>\n",
       "      <td>0.005656</td>\n",
       "      <td>0.029673</td>\n",
       "      <td>0.044615</td>\n",
       "      <td>0.095622</td>\n",
       "    </tr>\n",
       "    <tr>\n",
       "      <th>1</th>\n",
       "      <td>404</td>\n",
       "      <td>0.045737</td>\n",
       "      <td>0.067158</td>\n",
       "      <td>0.005581</td>\n",
       "      <td>0.029349</td>\n",
       "      <td>0.044055</td>\n",
       "      <td>0.094832</td>\n",
       "    </tr>\n",
       "    <tr>\n",
       "      <th>2</th>\n",
       "      <td>406</td>\n",
       "      <td>0.045399</td>\n",
       "      <td>0.066356</td>\n",
       "      <td>0.005506</td>\n",
       "      <td>0.029025</td>\n",
       "      <td>0.043495</td>\n",
       "      <td>0.094043</td>\n",
       "    </tr>\n",
       "    <tr>\n",
       "      <th>3</th>\n",
       "      <td>408</td>\n",
       "      <td>0.044532</td>\n",
       "      <td>0.064789</td>\n",
       "      <td>0.005575</td>\n",
       "      <td>0.028466</td>\n",
       "      <td>0.042336</td>\n",
       "      <td>0.092414</td>\n",
       "    </tr>\n",
       "    <tr>\n",
       "      <th>4</th>\n",
       "      <td>410</td>\n",
       "      <td>0.043607</td>\n",
       "      <td>0.063137</td>\n",
       "      <td>0.005661</td>\n",
       "      <td>0.027881</td>\n",
       "      <td>0.041110</td>\n",
       "      <td>0.090692</td>\n",
       "    </tr>\n",
       "  </tbody>\n",
       "</table>\n",
       "</div>"
      ],
      "text/plain": [
       "  band  Emiliania_huxleyi  Pelagomonas_calceolate  Prochlorococcus_marinus  \\\n",
       "0  402           0.046076                0.067961                 0.005656   \n",
       "1  404           0.045737                0.067158                 0.005581   \n",
       "2  406           0.045399                0.066356                 0.005506   \n",
       "3  408           0.044532                0.064789                 0.005575   \n",
       "4  410           0.043607                0.063137                 0.005661   \n",
       "\n",
       "   Synechococcus  Tetraselmis  Thalassiosira_oceanica  \n",
       "0       0.029673     0.044615                0.095622  \n",
       "1       0.029349     0.044055                0.094832  \n",
       "2       0.029025     0.043495                0.094043  \n",
       "3       0.028466     0.042336                0.092414  \n",
       "4       0.027881     0.041110                0.090692  "
      ]
     },
     "execution_count": 9,
     "metadata": {},
     "output_type": "execute_result"
    }
   ],
   "source": [
    "df_abs.head()"
   ]
  },
  {
   "cell_type": "code",
   "execution_count": 10,
   "metadata": {},
   "outputs": [],
   "source": [
    "df_abs.to_sql('spp_absorption_spectra', conn, index=False)"
   ]
  },
  {
   "cell_type": "code",
   "execution_count": 12,
   "metadata": {},
   "outputs": [],
   "source": [
    "df_c = pd.read_csv(raw_dir / 'C_total_species.csv')"
   ]
  },
  {
   "cell_type": "code",
   "execution_count": 13,
   "metadata": {},
   "outputs": [
    {
     "data": {
      "text/html": [
       "<div>\n",
       "<style scoped>\n",
       "    .dataframe tbody tr th:only-of-type {\n",
       "        vertical-align: middle;\n",
       "    }\n",
       "\n",
       "    .dataframe tbody tr th {\n",
       "        vertical-align: top;\n",
       "    }\n",
       "\n",
       "    .dataframe thead th {\n",
       "        text-align: right;\n",
       "    }\n",
       "</style>\n",
       "<table border=\"1\" class=\"dataframe\">\n",
       "  <thead>\n",
       "    <tr style=\"text-align: right;\">\n",
       "      <th></th>\n",
       "      <th>band</th>\n",
       "      <th>Ehux</th>\n",
       "      <th>Pela</th>\n",
       "      <th>Pro_</th>\n",
       "      <th>Syn_</th>\n",
       "      <th>Tetr</th>\n",
       "      <th>Thal</th>\n",
       "    </tr>\n",
       "  </thead>\n",
       "  <tbody>\n",
       "    <tr>\n",
       "      <th>0</th>\n",
       "      <td>c402</td>\n",
       "      <td>0.117706</td>\n",
       "      <td>0.183748</td>\n",
       "      <td>0.013677</td>\n",
       "      <td>0.062167</td>\n",
       "      <td>0.113121</td>\n",
       "      <td>0.211157</td>\n",
       "    </tr>\n",
       "    <tr>\n",
       "      <th>1</th>\n",
       "      <td>c404</td>\n",
       "      <td>0.116581</td>\n",
       "      <td>0.181489</td>\n",
       "      <td>0.013682</td>\n",
       "      <td>0.061141</td>\n",
       "      <td>0.111417</td>\n",
       "      <td>0.206599</td>\n",
       "    </tr>\n",
       "    <tr>\n",
       "      <th>2</th>\n",
       "      <td>c406</td>\n",
       "      <td>0.115456</td>\n",
       "      <td>0.179229</td>\n",
       "      <td>0.013688</td>\n",
       "      <td>0.060114</td>\n",
       "      <td>0.109714</td>\n",
       "      <td>0.202041</td>\n",
       "    </tr>\n",
       "    <tr>\n",
       "      <th>3</th>\n",
       "      <td>c408</td>\n",
       "      <td>0.114457</td>\n",
       "      <td>0.176926</td>\n",
       "      <td>0.013663</td>\n",
       "      <td>0.059053</td>\n",
       "      <td>0.108675</td>\n",
       "      <td>0.199463</td>\n",
       "    </tr>\n",
       "    <tr>\n",
       "      <th>4</th>\n",
       "      <td>c410</td>\n",
       "      <td>0.113473</td>\n",
       "      <td>0.174617</td>\n",
       "      <td>0.013634</td>\n",
       "      <td>0.057988</td>\n",
       "      <td>0.107710</td>\n",
       "      <td>0.197104</td>\n",
       "    </tr>\n",
       "  </tbody>\n",
       "</table>\n",
       "</div>"
      ],
      "text/plain": [
       "   band      Ehux      Pela      Pro_      Syn_      Tetr      Thal\n",
       "0  c402  0.117706  0.183748  0.013677  0.062167  0.113121  0.211157\n",
       "1  c404  0.116581  0.181489  0.013682  0.061141  0.111417  0.206599\n",
       "2  c406  0.115456  0.179229  0.013688  0.060114  0.109714  0.202041\n",
       "3  c408  0.114457  0.176926  0.013663  0.059053  0.108675  0.199463\n",
       "4  c410  0.113473  0.174617  0.013634  0.057988  0.107710  0.197104"
      ]
     },
     "execution_count": 13,
     "metadata": {},
     "output_type": "execute_result"
    }
   ],
   "source": [
    "df_c.head()"
   ]
  },
  {
   "cell_type": "code",
   "execution_count": 14,
   "metadata": {},
   "outputs": [],
   "source": [
    "df_c.band = df_c.apply(lambda x: x['band'][1:], axis=1)\n",
    "df_c.rename(columns=col_name_mapper, inplace=True)"
   ]
  },
  {
   "cell_type": "code",
   "execution_count": 15,
   "metadata": {},
   "outputs": [
    {
     "data": {
      "text/html": [
       "<div>\n",
       "<style scoped>\n",
       "    .dataframe tbody tr th:only-of-type {\n",
       "        vertical-align: middle;\n",
       "    }\n",
       "\n",
       "    .dataframe tbody tr th {\n",
       "        vertical-align: top;\n",
       "    }\n",
       "\n",
       "    .dataframe thead th {\n",
       "        text-align: right;\n",
       "    }\n",
       "</style>\n",
       "<table border=\"1\" class=\"dataframe\">\n",
       "  <thead>\n",
       "    <tr style=\"text-align: right;\">\n",
       "      <th></th>\n",
       "      <th>band</th>\n",
       "      <th>Emiliania_huxleyi</th>\n",
       "      <th>Pelagomonas_calceolate</th>\n",
       "      <th>Prochlorococcus_marinus</th>\n",
       "      <th>Synechococcus</th>\n",
       "      <th>Tetraselmis</th>\n",
       "      <th>Thalassiosira_oceanica</th>\n",
       "    </tr>\n",
       "  </thead>\n",
       "  <tbody>\n",
       "    <tr>\n",
       "      <th>0</th>\n",
       "      <td>402</td>\n",
       "      <td>0.117706</td>\n",
       "      <td>0.183748</td>\n",
       "      <td>0.013677</td>\n",
       "      <td>0.062167</td>\n",
       "      <td>0.113121</td>\n",
       "      <td>0.211157</td>\n",
       "    </tr>\n",
       "    <tr>\n",
       "      <th>1</th>\n",
       "      <td>404</td>\n",
       "      <td>0.116581</td>\n",
       "      <td>0.181489</td>\n",
       "      <td>0.013682</td>\n",
       "      <td>0.061141</td>\n",
       "      <td>0.111417</td>\n",
       "      <td>0.206599</td>\n",
       "    </tr>\n",
       "  </tbody>\n",
       "</table>\n",
       "</div>"
      ],
      "text/plain": [
       "  band  Emiliania_huxleyi  Pelagomonas_calceolate  Prochlorococcus_marinus  \\\n",
       "0  402           0.117706                0.183748                 0.013677   \n",
       "1  404           0.116581                0.181489                 0.013682   \n",
       "\n",
       "   Synechococcus  Tetraselmis  Thalassiosira_oceanica  \n",
       "0       0.062167     0.113121                0.211157  \n",
       "1       0.061141     0.111417                0.206599  "
      ]
     },
     "execution_count": 15,
     "metadata": {},
     "output_type": "execute_result"
    }
   ],
   "source": [
    "df_c.head(2)"
   ]
  },
  {
   "cell_type": "code",
   "execution_count": 16,
   "metadata": {},
   "outputs": [],
   "source": [
    "df_c.to_sql('spp_attenuation_spectra', conn, index=False)"
   ]
  },
  {
   "cell_type": "code",
   "execution_count": 17,
   "metadata": {},
   "outputs": [],
   "source": [
    "df_smpl = pd.read_csv(raw_dir / 'Samples01_mix_std_Rrs_mixedIOPs.csv')"
   ]
  },
  {
   "cell_type": "code",
   "execution_count": 18,
   "metadata": {},
   "outputs": [
    {
     "data": {
      "text/html": [
       "<div>\n",
       "<style scoped>\n",
       "    .dataframe tbody tr th:only-of-type {\n",
       "        vertical-align: middle;\n",
       "    }\n",
       "\n",
       "    .dataframe tbody tr th {\n",
       "        vertical-align: top;\n",
       "    }\n",
       "\n",
       "    .dataframe thead th {\n",
       "        text-align: right;\n",
       "    }\n",
       "</style>\n",
       "<table border=\"1\" class=\"dataframe\">\n",
       "  <thead>\n",
       "    <tr style=\"text-align: right;\">\n",
       "      <th></th>\n",
       "      <th>band</th>\n",
       "      <th>sample1</th>\n",
       "      <th>sample2</th>\n",
       "      <th>sample3</th>\n",
       "      <th>sample4</th>\n",
       "      <th>sample5</th>\n",
       "      <th>sample6</th>\n",
       "    </tr>\n",
       "  </thead>\n",
       "  <tbody>\n",
       "    <tr>\n",
       "      <th>0</th>\n",
       "      <td>413</td>\n",
       "      <td>2.438076</td>\n",
       "      <td>2.034605</td>\n",
       "      <td>1.544007</td>\n",
       "      <td>1.335612</td>\n",
       "      <td>1.151216</td>\n",
       "      <td>1.265875</td>\n",
       "    </tr>\n",
       "    <tr>\n",
       "      <th>1</th>\n",
       "      <td>415</td>\n",
       "      <td>2.402384</td>\n",
       "      <td>2.016595</td>\n",
       "      <td>1.538197</td>\n",
       "      <td>1.333720</td>\n",
       "      <td>1.146920</td>\n",
       "      <td>1.258342</td>\n",
       "    </tr>\n",
       "  </tbody>\n",
       "</table>\n",
       "</div>"
      ],
      "text/plain": [
       "   band   sample1   sample2   sample3   sample4   sample5   sample6\n",
       "0   413  2.438076  2.034605  1.544007  1.335612  1.151216  1.265875\n",
       "1   415  2.402384  2.016595  1.538197  1.333720  1.146920  1.258342"
      ]
     },
     "execution_count": 18,
     "metadata": {},
     "output_type": "execute_result"
    }
   ],
   "source": [
    "df_smpl.head(2)"
   ]
  },
  {
   "cell_type": "code",
   "execution_count": 19,
   "metadata": {},
   "outputs": [],
   "source": [
    "df_smpl.to_sql('mixed_rrs_spectra', conn, index=False)"
   ]
  },
  {
   "cell_type": "code",
   "execution_count": 20,
   "metadata": {},
   "outputs": [],
   "source": [
    "df_rrs = pd.read_csv(raw_dir / 'Species01_std_Rrs.csv')"
   ]
  },
  {
   "cell_type": "code",
   "execution_count": 21,
   "metadata": {},
   "outputs": [
    {
     "data": {
      "text/html": [
       "<div>\n",
       "<style scoped>\n",
       "    .dataframe tbody tr th:only-of-type {\n",
       "        vertical-align: middle;\n",
       "    }\n",
       "\n",
       "    .dataframe tbody tr th {\n",
       "        vertical-align: top;\n",
       "    }\n",
       "\n",
       "    .dataframe thead th {\n",
       "        text-align: right;\n",
       "    }\n",
       "</style>\n",
       "<table border=\"1\" class=\"dataframe\">\n",
       "  <thead>\n",
       "    <tr style=\"text-align: right;\">\n",
       "      <th></th>\n",
       "      <th>band</th>\n",
       "      <th>Ehux</th>\n",
       "      <th>Pela</th>\n",
       "      <th>Pro</th>\n",
       "      <th>Syn</th>\n",
       "      <th>Tetr</th>\n",
       "      <th>Thal</th>\n",
       "    </tr>\n",
       "  </thead>\n",
       "  <tbody>\n",
       "    <tr>\n",
       "      <th>0</th>\n",
       "      <td>413</td>\n",
       "      <td>1.651996</td>\n",
       "      <td>1.14552</td>\n",
       "      <td>2.717057</td>\n",
       "      <td>1.662198</td>\n",
       "      <td>1.453781</td>\n",
       "      <td>1.034611</td>\n",
       "    </tr>\n",
       "    <tr>\n",
       "      <th>1</th>\n",
       "      <td>415</td>\n",
       "      <td>1.631211</td>\n",
       "      <td>1.13757</td>\n",
       "      <td>2.664387</td>\n",
       "      <td>1.654245</td>\n",
       "      <td>1.461299</td>\n",
       "      <td>1.030149</td>\n",
       "    </tr>\n",
       "  </tbody>\n",
       "</table>\n",
       "</div>"
      ],
      "text/plain": [
       "   band      Ehux     Pela       Pro       Syn      Tetr      Thal\n",
       "0   413  1.651996  1.14552  2.717057  1.662198  1.453781  1.034611\n",
       "1   415  1.631211  1.13757  2.664387  1.654245  1.461299  1.030149"
      ]
     },
     "execution_count": 21,
     "metadata": {},
     "output_type": "execute_result"
    }
   ],
   "source": [
    "df_rrs.head(2)"
   ]
  },
  {
   "cell_type": "code",
   "execution_count": 27,
   "metadata": {},
   "outputs": [],
   "source": [
    "df_rrs.rename(columns=col_name_mapper, inplace=True)"
   ]
  },
  {
   "cell_type": "code",
   "execution_count": 28,
   "metadata": {},
   "outputs": [
    {
     "data": {
      "text/html": [
       "<div>\n",
       "<style scoped>\n",
       "    .dataframe tbody tr th:only-of-type {\n",
       "        vertical-align: middle;\n",
       "    }\n",
       "\n",
       "    .dataframe tbody tr th {\n",
       "        vertical-align: top;\n",
       "    }\n",
       "\n",
       "    .dataframe thead th {\n",
       "        text-align: right;\n",
       "    }\n",
       "</style>\n",
       "<table border=\"1\" class=\"dataframe\">\n",
       "  <thead>\n",
       "    <tr style=\"text-align: right;\">\n",
       "      <th></th>\n",
       "      <th>band</th>\n",
       "      <th>Emiliania_huxleyi</th>\n",
       "      <th>Pelagomonas_calceolate</th>\n",
       "      <th>Prochlorococcus_marinus</th>\n",
       "      <th>Synechococcus</th>\n",
       "      <th>Tetraselmis</th>\n",
       "      <th>Thalassiosira_oceanica</th>\n",
       "    </tr>\n",
       "  </thead>\n",
       "  <tbody>\n",
       "    <tr>\n",
       "      <th>0</th>\n",
       "      <td>413</td>\n",
       "      <td>1.651996</td>\n",
       "      <td>1.14552</td>\n",
       "      <td>2.717057</td>\n",
       "      <td>1.662198</td>\n",
       "      <td>1.453781</td>\n",
       "      <td>1.034611</td>\n",
       "    </tr>\n",
       "    <tr>\n",
       "      <th>1</th>\n",
       "      <td>415</td>\n",
       "      <td>1.631211</td>\n",
       "      <td>1.13757</td>\n",
       "      <td>2.664387</td>\n",
       "      <td>1.654245</td>\n",
       "      <td>1.461299</td>\n",
       "      <td>1.030149</td>\n",
       "    </tr>\n",
       "  </tbody>\n",
       "</table>\n",
       "</div>"
      ],
      "text/plain": [
       "   band  Emiliania_huxleyi  Pelagomonas_calceolate  Prochlorococcus_marinus  \\\n",
       "0   413           1.651996                 1.14552                 2.717057   \n",
       "1   415           1.631211                 1.13757                 2.664387   \n",
       "\n",
       "   Synechococcus  Tetraselmis  Thalassiosira_oceanica  \n",
       "0       1.662198     1.453781                1.034611  \n",
       "1       1.654245     1.461299                1.030149  "
      ]
     },
     "execution_count": 28,
     "metadata": {},
     "output_type": "execute_result"
    }
   ],
   "source": [
    "df_rrs.head(2)"
   ]
  },
  {
   "cell_type": "code",
   "execution_count": 29,
   "metadata": {},
   "outputs": [],
   "source": [
    "df_rrs.to_sql('spp_rrs_spectra', conn, index=False)"
   ]
  },
  {
   "cell_type": "code",
   "execution_count": 30,
   "metadata": {},
   "outputs": [],
   "source": [
    "df_a_mix = pd.read_csv('./Data/Run01_20190610/Raw/Samples01_synthetic_mix_a.csv')"
   ]
  },
  {
   "cell_type": "code",
   "execution_count": 31,
   "metadata": {},
   "outputs": [
    {
     "data": {
      "text/html": [
       "<div>\n",
       "<style scoped>\n",
       "    .dataframe tbody tr th:only-of-type {\n",
       "        vertical-align: middle;\n",
       "    }\n",
       "\n",
       "    .dataframe tbody tr th {\n",
       "        vertical-align: top;\n",
       "    }\n",
       "\n",
       "    .dataframe thead th {\n",
       "        text-align: right;\n",
       "    }\n",
       "</style>\n",
       "<table border=\"1\" class=\"dataframe\">\n",
       "  <thead>\n",
       "    <tr style=\"text-align: right;\">\n",
       "      <th></th>\n",
       "      <th>band</th>\n",
       "      <th>sample1</th>\n",
       "      <th>sample2</th>\n",
       "      <th>sample3</th>\n",
       "      <th>sample4</th>\n",
       "      <th>sample5</th>\n",
       "      <th>sample6</th>\n",
       "    </tr>\n",
       "  </thead>\n",
       "  <tbody>\n",
       "    <tr>\n",
       "      <th>0</th>\n",
       "      <td>402</td>\n",
       "      <td>0.009713</td>\n",
       "      <td>0.018840</td>\n",
       "      <td>0.038820</td>\n",
       "      <td>0.058182</td>\n",
       "      <td>0.079783</td>\n",
       "      <td>0.069670</td>\n",
       "    </tr>\n",
       "    <tr>\n",
       "      <th>1</th>\n",
       "      <td>404</td>\n",
       "      <td>0.009590</td>\n",
       "      <td>0.018608</td>\n",
       "      <td>0.038384</td>\n",
       "      <td>0.057595</td>\n",
       "      <td>0.079077</td>\n",
       "      <td>0.069065</td>\n",
       "    </tr>\n",
       "  </tbody>\n",
       "</table>\n",
       "</div>"
      ],
      "text/plain": [
       "   band   sample1   sample2   sample3   sample4   sample5   sample6\n",
       "0   402  0.009713  0.018840  0.038820  0.058182  0.079783  0.069670\n",
       "1   404  0.009590  0.018608  0.038384  0.057595  0.079077  0.069065"
      ]
     },
     "execution_count": 31,
     "metadata": {},
     "output_type": "execute_result"
    }
   ],
   "source": [
    "df_a_mix.head(2)"
   ]
  },
  {
   "cell_type": "code",
   "execution_count": 32,
   "metadata": {},
   "outputs": [],
   "source": [
    "df_a_mix.to_sql('mixed_absorption_spectra', conn, index=False, if_exists='replace')"
   ]
  },
  {
   "cell_type": "code",
   "execution_count": 33,
   "metadata": {},
   "outputs": [],
   "source": [
    "df_c_mix = pd.read_csv('./Data/Run01_20190610/Raw/Samples01_synthetic_mix_c.csv')"
   ]
  },
  {
   "cell_type": "code",
   "execution_count": 34,
   "metadata": {},
   "outputs": [
    {
     "data": {
      "text/html": [
       "<div>\n",
       "<style scoped>\n",
       "    .dataframe tbody tr th:only-of-type {\n",
       "        vertical-align: middle;\n",
       "    }\n",
       "\n",
       "    .dataframe tbody tr th {\n",
       "        vertical-align: top;\n",
       "    }\n",
       "\n",
       "    .dataframe thead th {\n",
       "        text-align: right;\n",
       "    }\n",
       "</style>\n",
       "<table border=\"1\" class=\"dataframe\">\n",
       "  <thead>\n",
       "    <tr style=\"text-align: right;\">\n",
       "      <th></th>\n",
       "      <th>band</th>\n",
       "      <th>sample1</th>\n",
       "      <th>sample2</th>\n",
       "      <th>sample3</th>\n",
       "      <th>sample4</th>\n",
       "      <th>sample5</th>\n",
       "      <th>sample6</th>\n",
       "    </tr>\n",
       "  </thead>\n",
       "  <tbody>\n",
       "    <tr>\n",
       "      <th>0</th>\n",
       "      <td>402</td>\n",
       "      <td>0.024236</td>\n",
       "      <td>0.048050</td>\n",
       "      <td>0.092226</td>\n",
       "      <td>0.137637</td>\n",
       "      <td>0.182953</td>\n",
       "      <td>0.164218</td>\n",
       "    </tr>\n",
       "    <tr>\n",
       "      <th>1</th>\n",
       "      <td>404</td>\n",
       "      <td>0.024078</td>\n",
       "      <td>0.047524</td>\n",
       "      <td>0.090826</td>\n",
       "      <td>0.135220</td>\n",
       "      <td>0.179407</td>\n",
       "      <td>0.161411</td>\n",
       "    </tr>\n",
       "  </tbody>\n",
       "</table>\n",
       "</div>"
      ],
      "text/plain": [
       "   band   sample1   sample2   sample3   sample4   sample5   sample6\n",
       "0   402  0.024236  0.048050  0.092226  0.137637  0.182953  0.164218\n",
       "1   404  0.024078  0.047524  0.090826  0.135220  0.179407  0.161411"
      ]
     },
     "execution_count": 34,
     "metadata": {},
     "output_type": "execute_result"
    }
   ],
   "source": [
    "df_c_mix.head(2)"
   ]
  },
  {
   "cell_type": "code",
   "execution_count": 35,
   "metadata": {},
   "outputs": [],
   "source": [
    "df_c_mix.to_sql('mixed_attenuation_spectra', conn, index=False, if_exists='replace')"
   ]
  },
  {
   "cell_type": "code",
   "execution_count": 37,
   "metadata": {},
   "outputs": [],
   "source": [
    "df_mixing_proportions = pd.read_csv(raw_dir / 'Samples01_synthetic_mix_validation.csv')"
   ]
  },
  {
   "cell_type": "code",
   "execution_count": 38,
   "metadata": {},
   "outputs": [
    {
     "data": {
      "text/html": [
       "<div>\n",
       "<style scoped>\n",
       "    .dataframe tbody tr th:only-of-type {\n",
       "        vertical-align: middle;\n",
       "    }\n",
       "\n",
       "    .dataframe tbody tr th {\n",
       "        vertical-align: top;\n",
       "    }\n",
       "\n",
       "    .dataframe thead th {\n",
       "        text-align: right;\n",
       "    }\n",
       "</style>\n",
       "<table border=\"1\" class=\"dataframe\">\n",
       "  <thead>\n",
       "    <tr style=\"text-align: right;\">\n",
       "      <th></th>\n",
       "      <th>taxon</th>\n",
       "      <th>sample1</th>\n",
       "      <th>sample2</th>\n",
       "      <th>sample3</th>\n",
       "      <th>sample4</th>\n",
       "      <th>sample5</th>\n",
       "      <th>sample6</th>\n",
       "    </tr>\n",
       "  </thead>\n",
       "  <tbody>\n",
       "    <tr>\n",
       "      <th>0</th>\n",
       "      <td>Ehux</td>\n",
       "      <td>0.00</td>\n",
       "      <td>0.00</td>\n",
       "      <td>0.00</td>\n",
       "      <td>0.05</td>\n",
       "      <td>0.10</td>\n",
       "      <td>0.35</td>\n",
       "    </tr>\n",
       "    <tr>\n",
       "      <th>1</th>\n",
       "      <td>Pela</td>\n",
       "      <td>0.03</td>\n",
       "      <td>0.10</td>\n",
       "      <td>0.15</td>\n",
       "      <td>0.07</td>\n",
       "      <td>0.08</td>\n",
       "      <td>0.09</td>\n",
       "    </tr>\n",
       "    <tr>\n",
       "      <th>2</th>\n",
       "      <td>Pro</td>\n",
       "      <td>0.91</td>\n",
       "      <td>0.71</td>\n",
       "      <td>0.12</td>\n",
       "      <td>0.05</td>\n",
       "      <td>0.00</td>\n",
       "      <td>0.00</td>\n",
       "    </tr>\n",
       "    <tr>\n",
       "      <th>3</th>\n",
       "      <td>Syn</td>\n",
       "      <td>0.01</td>\n",
       "      <td>0.03</td>\n",
       "      <td>0.48</td>\n",
       "      <td>0.10</td>\n",
       "      <td>0.00</td>\n",
       "      <td>0.00</td>\n",
       "    </tr>\n",
       "    <tr>\n",
       "      <th>4</th>\n",
       "      <td>Tetr</td>\n",
       "      <td>0.05</td>\n",
       "      <td>0.16</td>\n",
       "      <td>0.20</td>\n",
       "      <td>0.43</td>\n",
       "      <td>0.17</td>\n",
       "      <td>0.12</td>\n",
       "    </tr>\n",
       "    <tr>\n",
       "      <th>5</th>\n",
       "      <td>Thal</td>\n",
       "      <td>0.00</td>\n",
       "      <td>0.00</td>\n",
       "      <td>0.05</td>\n",
       "      <td>0.30</td>\n",
       "      <td>0.65</td>\n",
       "      <td>0.44</td>\n",
       "    </tr>\n",
       "  </tbody>\n",
       "</table>\n",
       "</div>"
      ],
      "text/plain": [
       "  taxon  sample1  sample2  sample3  sample4  sample5  sample6\n",
       "0  Ehux     0.00     0.00     0.00     0.05     0.10     0.35\n",
       "1  Pela     0.03     0.10     0.15     0.07     0.08     0.09\n",
       "2   Pro     0.91     0.71     0.12     0.05     0.00     0.00\n",
       "3   Syn     0.01     0.03     0.48     0.10     0.00     0.00\n",
       "4  Tetr     0.05     0.16     0.20     0.43     0.17     0.12\n",
       "5  Thal     0.00     0.00     0.05     0.30     0.65     0.44"
      ]
     },
     "execution_count": 38,
     "metadata": {},
     "output_type": "execute_result"
    }
   ],
   "source": [
    "df_mixing_proportions"
   ]
  },
  {
   "cell_type": "code",
   "execution_count": 39,
   "metadata": {},
   "outputs": [],
   "source": [
    "df_mixing_proportions = df_mixing_proportions.set_index('taxon').rename({'Ehux': 'Emiliania_huxleyi', 'Pela': 'Pelagomonas_calceolate',\n",
    "                   'Pro': 'Prochlorococcus_marinus', 'Syn': 'Synechococcus',\n",
    "                   'Tetr': 'Tetraselmis', 'Thal': 'Thalassiosira_oceanica',\n",
    "                  }).reset_index()"
   ]
  },
  {
   "cell_type": "code",
   "execution_count": 41,
   "metadata": {},
   "outputs": [],
   "source": [
    "df_mixing_proportions =  df_mixing_proportions.append(df_mixing_proportions.iloc[:, 1:].sum(axis=0),\n",
    "                             ignore_index=True).replace(np.NaN, 'Total')"
   ]
  },
  {
   "cell_type": "code",
   "execution_count": 42,
   "metadata": {},
   "outputs": [
    {
     "data": {
      "text/html": [
       "<div>\n",
       "<style scoped>\n",
       "    .dataframe tbody tr th:only-of-type {\n",
       "        vertical-align: middle;\n",
       "    }\n",
       "\n",
       "    .dataframe tbody tr th {\n",
       "        vertical-align: top;\n",
       "    }\n",
       "\n",
       "    .dataframe thead th {\n",
       "        text-align: right;\n",
       "    }\n",
       "</style>\n",
       "<table border=\"1\" class=\"dataframe\">\n",
       "  <thead>\n",
       "    <tr style=\"text-align: right;\">\n",
       "      <th></th>\n",
       "      <th>taxon</th>\n",
       "      <th>sample1</th>\n",
       "      <th>sample2</th>\n",
       "      <th>sample3</th>\n",
       "      <th>sample4</th>\n",
       "      <th>sample5</th>\n",
       "      <th>sample6</th>\n",
       "    </tr>\n",
       "  </thead>\n",
       "  <tbody>\n",
       "    <tr>\n",
       "      <th>0</th>\n",
       "      <td>Emiliania_huxleyi</td>\n",
       "      <td>0.00</td>\n",
       "      <td>0.00</td>\n",
       "      <td>0.00</td>\n",
       "      <td>0.05</td>\n",
       "      <td>0.10</td>\n",
       "      <td>0.35</td>\n",
       "    </tr>\n",
       "    <tr>\n",
       "      <th>1</th>\n",
       "      <td>Pelagomonas_calceolate</td>\n",
       "      <td>0.03</td>\n",
       "      <td>0.10</td>\n",
       "      <td>0.15</td>\n",
       "      <td>0.07</td>\n",
       "      <td>0.08</td>\n",
       "      <td>0.09</td>\n",
       "    </tr>\n",
       "    <tr>\n",
       "      <th>2</th>\n",
       "      <td>Prochlorococcus_marinus</td>\n",
       "      <td>0.91</td>\n",
       "      <td>0.71</td>\n",
       "      <td>0.12</td>\n",
       "      <td>0.05</td>\n",
       "      <td>0.00</td>\n",
       "      <td>0.00</td>\n",
       "    </tr>\n",
       "    <tr>\n",
       "      <th>3</th>\n",
       "      <td>Synechococcus</td>\n",
       "      <td>0.01</td>\n",
       "      <td>0.03</td>\n",
       "      <td>0.48</td>\n",
       "      <td>0.10</td>\n",
       "      <td>0.00</td>\n",
       "      <td>0.00</td>\n",
       "    </tr>\n",
       "    <tr>\n",
       "      <th>4</th>\n",
       "      <td>Tetraselmis</td>\n",
       "      <td>0.05</td>\n",
       "      <td>0.16</td>\n",
       "      <td>0.20</td>\n",
       "      <td>0.43</td>\n",
       "      <td>0.17</td>\n",
       "      <td>0.12</td>\n",
       "    </tr>\n",
       "    <tr>\n",
       "      <th>5</th>\n",
       "      <td>Thalassiosira_oceanica</td>\n",
       "      <td>0.00</td>\n",
       "      <td>0.00</td>\n",
       "      <td>0.05</td>\n",
       "      <td>0.30</td>\n",
       "      <td>0.65</td>\n",
       "      <td>0.44</td>\n",
       "    </tr>\n",
       "    <tr>\n",
       "      <th>6</th>\n",
       "      <td>Total</td>\n",
       "      <td>1.00</td>\n",
       "      <td>1.00</td>\n",
       "      <td>1.00</td>\n",
       "      <td>1.00</td>\n",
       "      <td>1.00</td>\n",
       "      <td>1.00</td>\n",
       "    </tr>\n",
       "  </tbody>\n",
       "</table>\n",
       "</div>"
      ],
      "text/plain": [
       "                     taxon  sample1  sample2  sample3  sample4  sample5  \\\n",
       "0        Emiliania_huxleyi     0.00     0.00     0.00     0.05     0.10   \n",
       "1   Pelagomonas_calceolate     0.03     0.10     0.15     0.07     0.08   \n",
       "2  Prochlorococcus_marinus     0.91     0.71     0.12     0.05     0.00   \n",
       "3            Synechococcus     0.01     0.03     0.48     0.10     0.00   \n",
       "4              Tetraselmis     0.05     0.16     0.20     0.43     0.17   \n",
       "5   Thalassiosira_oceanica     0.00     0.00     0.05     0.30     0.65   \n",
       "6                    Total     1.00     1.00     1.00     1.00     1.00   \n",
       "\n",
       "   sample6  \n",
       "0     0.35  \n",
       "1     0.09  \n",
       "2     0.00  \n",
       "3     0.00  \n",
       "4     0.12  \n",
       "5     0.44  \n",
       "6     1.00  "
      ]
     },
     "execution_count": 42,
     "metadata": {},
     "output_type": "execute_result"
    }
   ],
   "source": [
    "df_mixing_proportions"
   ]
  },
  {
   "cell_type": "code",
   "execution_count": 43,
   "metadata": {},
   "outputs": [],
   "source": [
    "df_mixing_proportions.to_sql('mixing_proportions_validation', conn, index=False)"
   ]
  },
  {
   "cell_type": "code",
   "execution_count": 44,
   "metadata": {},
   "outputs": [],
   "source": [
    "conn.commit()"
   ]
  },
  {
   "cell_type": "code",
   "execution_count": 45,
   "metadata": {},
   "outputs": [],
   "source": [
    "conn.close()"
   ]
  },
  {
   "cell_type": "code",
   "execution_count": null,
   "metadata": {},
   "outputs": [],
   "source": []
  }
 ],
 "metadata": {
  "kernelspec": {
   "display_name": "Python [conda env:project_pri] *",
   "language": "python",
   "name": "conda-env-project_pri-py"
  },
  "language_info": {
   "codemirror_mode": {
    "name": "ipython",
    "version": 3
   },
   "file_extension": ".py",
   "mimetype": "text/x-python",
   "name": "python",
   "nbconvert_exporter": "python",
   "pygments_lexer": "ipython3",
   "version": "3.7.3"
  }
 },
 "nbformat": 4,
 "nbformat_minor": 2
}
